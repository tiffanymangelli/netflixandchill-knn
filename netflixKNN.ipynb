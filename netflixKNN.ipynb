{
 "cells": [
  {
   "cell_type": "markdown",
   "id": "sunrise-graduate",
   "metadata": {
    "papermill": {
     "duration": 0.016025,
     "end_time": "2021-04-20T02:29:11.830032",
     "exception": false,
     "start_time": "2021-04-20T02:29:11.814007",
     "status": "completed"
    },
    "tags": []
   },
   "source": [
    "## Netflix Recommender App using K-means and Fasttext embedding\n",
    "by Tiffany Mangelli MBD Section 1"
   ]
  },
  {
   "cell_type": "code",
   "execution_count": 1,
   "id": "social-upgrade",
   "metadata": {
    "papermill": {
     "duration": 0.022437,
     "end_time": "2021-04-20T02:29:11.867756",
     "exception": false,
     "start_time": "2021-04-20T02:29:11.845319",
     "status": "completed"
    },
    "tags": []
   },
   "outputs": [],
   "source": [
    "import pandas as pd\n",
    "import numpy as np\n",
    "import random\n",
    "import re"
   ]
  },
  {
   "cell_type": "markdown",
   "id": "acting-thompson",
   "metadata": {
    "papermill": {
     "duration": 0.015142,
     "end_time": "2021-04-20T02:29:11.898240",
     "exception": false,
     "start_time": "2021-04-20T02:29:11.883098",
     "status": "completed"
    },
    "tags": []
   },
   "source": [
    "### 1.Preprocessing\n",
    "Select rows which is movie type and nessecary columns<br/>\n",
    "Remove special character and transform to lower case"
   ]
  },
  {
   "cell_type": "code",
   "execution_count": 2,
   "id": "cardiac-impossible",
   "metadata": {
    "papermill": {
     "duration": 0.180299,
     "end_time": "2021-04-20T02:29:12.093993",
     "exception": false,
     "start_time": "2021-04-20T02:29:11.913694",
     "status": "completed"
    },
    "tags": []
   },
   "outputs": [
    {
     "name": "stdout",
     "output_type": "stream",
     "text": [
      "(8807, 12)\n"
     ]
    },
    {
     "data": {
      "text/html": [
       "<div>\n",
       "<style scoped>\n",
       "    .dataframe tbody tr th:only-of-type {\n",
       "        vertical-align: middle;\n",
       "    }\n",
       "\n",
       "    .dataframe tbody tr th {\n",
       "        vertical-align: top;\n",
       "    }\n",
       "\n",
       "    .dataframe thead th {\n",
       "        text-align: right;\n",
       "    }\n",
       "</style>\n",
       "<table border=\"1\" class=\"dataframe\">\n",
       "  <thead>\n",
       "    <tr style=\"text-align: right;\">\n",
       "      <th></th>\n",
       "      <th>show_id</th>\n",
       "      <th>type</th>\n",
       "      <th>title</th>\n",
       "      <th>director</th>\n",
       "      <th>cast</th>\n",
       "      <th>country</th>\n",
       "      <th>date_added</th>\n",
       "      <th>release_year</th>\n",
       "      <th>rating</th>\n",
       "      <th>duration</th>\n",
       "      <th>listed_in</th>\n",
       "      <th>description</th>\n",
       "    </tr>\n",
       "  </thead>\n",
       "  <tbody>\n",
       "    <tr>\n",
       "      <th>0</th>\n",
       "      <td>s1</td>\n",
       "      <td>Movie</td>\n",
       "      <td>Dick Johnson Is Dead</td>\n",
       "      <td>Kirsten Johnson</td>\n",
       "      <td>NaN</td>\n",
       "      <td>United States</td>\n",
       "      <td>September 25, 2021</td>\n",
       "      <td>2020</td>\n",
       "      <td>PG-13</td>\n",
       "      <td>90 min</td>\n",
       "      <td>Documentaries</td>\n",
       "      <td>As her father nears the end of his life, filmm...</td>\n",
       "    </tr>\n",
       "    <tr>\n",
       "      <th>1</th>\n",
       "      <td>s2</td>\n",
       "      <td>TV Show</td>\n",
       "      <td>Blood &amp; Water</td>\n",
       "      <td>NaN</td>\n",
       "      <td>Ama Qamata, Khosi Ngema, Gail Mabalane, Thaban...</td>\n",
       "      <td>South Africa</td>\n",
       "      <td>September 24, 2021</td>\n",
       "      <td>2021</td>\n",
       "      <td>TV-MA</td>\n",
       "      <td>2 Seasons</td>\n",
       "      <td>International TV Shows, TV Dramas, TV Mysteries</td>\n",
       "      <td>After crossing paths at a party, a Cape Town t...</td>\n",
       "    </tr>\n",
       "    <tr>\n",
       "      <th>2</th>\n",
       "      <td>s3</td>\n",
       "      <td>TV Show</td>\n",
       "      <td>Ganglands</td>\n",
       "      <td>Julien Leclercq</td>\n",
       "      <td>Sami Bouajila, Tracy Gotoas, Samuel Jouy, Nabi...</td>\n",
       "      <td>NaN</td>\n",
       "      <td>September 24, 2021</td>\n",
       "      <td>2021</td>\n",
       "      <td>TV-MA</td>\n",
       "      <td>1 Season</td>\n",
       "      <td>Crime TV Shows, International TV Shows, TV Act...</td>\n",
       "      <td>To protect his family from a powerful drug lor...</td>\n",
       "    </tr>\n",
       "    <tr>\n",
       "      <th>3</th>\n",
       "      <td>s4</td>\n",
       "      <td>TV Show</td>\n",
       "      <td>Jailbirds New Orleans</td>\n",
       "      <td>NaN</td>\n",
       "      <td>NaN</td>\n",
       "      <td>NaN</td>\n",
       "      <td>September 24, 2021</td>\n",
       "      <td>2021</td>\n",
       "      <td>TV-MA</td>\n",
       "      <td>1 Season</td>\n",
       "      <td>Docuseries, Reality TV</td>\n",
       "      <td>Feuds, flirtations and toilet talk go down amo...</td>\n",
       "    </tr>\n",
       "    <tr>\n",
       "      <th>4</th>\n",
       "      <td>s5</td>\n",
       "      <td>TV Show</td>\n",
       "      <td>Kota Factory</td>\n",
       "      <td>NaN</td>\n",
       "      <td>Mayur More, Jitendra Kumar, Ranjan Raj, Alam K...</td>\n",
       "      <td>India</td>\n",
       "      <td>September 24, 2021</td>\n",
       "      <td>2021</td>\n",
       "      <td>TV-MA</td>\n",
       "      <td>2 Seasons</td>\n",
       "      <td>International TV Shows, Romantic TV Shows, TV ...</td>\n",
       "      <td>In a city of coaching centers known to train I...</td>\n",
       "    </tr>\n",
       "  </tbody>\n",
       "</table>\n",
       "</div>"
      ],
      "text/plain": [
       "  show_id     type                  title         director  \\\n",
       "0      s1    Movie   Dick Johnson Is Dead  Kirsten Johnson   \n",
       "1      s2  TV Show          Blood & Water              NaN   \n",
       "2      s3  TV Show              Ganglands  Julien Leclercq   \n",
       "3      s4  TV Show  Jailbirds New Orleans              NaN   \n",
       "4      s5  TV Show           Kota Factory              NaN   \n",
       "\n",
       "                                                cast        country  \\\n",
       "0                                                NaN  United States   \n",
       "1  Ama Qamata, Khosi Ngema, Gail Mabalane, Thaban...   South Africa   \n",
       "2  Sami Bouajila, Tracy Gotoas, Samuel Jouy, Nabi...            NaN   \n",
       "3                                                NaN            NaN   \n",
       "4  Mayur More, Jitendra Kumar, Ranjan Raj, Alam K...          India   \n",
       "\n",
       "           date_added  release_year rating   duration  \\\n",
       "0  September 25, 2021          2020  PG-13     90 min   \n",
       "1  September 24, 2021          2021  TV-MA  2 Seasons   \n",
       "2  September 24, 2021          2021  TV-MA   1 Season   \n",
       "3  September 24, 2021          2021  TV-MA   1 Season   \n",
       "4  September 24, 2021          2021  TV-MA  2 Seasons   \n",
       "\n",
       "                                           listed_in  \\\n",
       "0                                      Documentaries   \n",
       "1    International TV Shows, TV Dramas, TV Mysteries   \n",
       "2  Crime TV Shows, International TV Shows, TV Act...   \n",
       "3                             Docuseries, Reality TV   \n",
       "4  International TV Shows, Romantic TV Shows, TV ...   \n",
       "\n",
       "                                         description  \n",
       "0  As her father nears the end of his life, filmm...  \n",
       "1  After crossing paths at a party, a Cape Town t...  \n",
       "2  To protect his family from a powerful drug lor...  \n",
       "3  Feuds, flirtations and toilet talk go down amo...  \n",
       "4  In a city of coaching centers known to train I...  "
      ]
     },
     "execution_count": 2,
     "metadata": {},
     "output_type": "execute_result"
    }
   ],
   "source": [
    "orig_netflix = pd.read_csv(\"netflix_titles.csv\")\n",
    "print(orig_netflix.shape)\n",
    "orig_netflix.head()"
   ]
  },
  {
   "cell_type": "code",
   "execution_count": 3,
   "id": "announced-diving",
   "metadata": {
    "papermill": {
     "duration": 0.03814,
     "end_time": "2021-04-20T02:29:12.148628",
     "exception": false,
     "start_time": "2021-04-20T02:29:12.110488",
     "status": "completed"
    },
    "tags": []
   },
   "outputs": [
    {
     "data": {
      "text/html": [
       "<div>\n",
       "<style scoped>\n",
       "    .dataframe tbody tr th:only-of-type {\n",
       "        vertical-align: middle;\n",
       "    }\n",
       "\n",
       "    .dataframe tbody tr th {\n",
       "        vertical-align: top;\n",
       "    }\n",
       "\n",
       "    .dataframe thead th {\n",
       "        text-align: right;\n",
       "    }\n",
       "</style>\n",
       "<table border=\"1\" class=\"dataframe\">\n",
       "  <thead>\n",
       "    <tr style=\"text-align: right;\">\n",
       "      <th></th>\n",
       "      <th>title</th>\n",
       "      <th>listed_in</th>\n",
       "      <th>description</th>\n",
       "    </tr>\n",
       "  </thead>\n",
       "  <tbody>\n",
       "    <tr>\n",
       "      <th>0</th>\n",
       "      <td>Dick Johnson Is Dead</td>\n",
       "      <td>Documentaries</td>\n",
       "      <td>As her father nears the end of his life, filmm...</td>\n",
       "    </tr>\n",
       "    <tr>\n",
       "      <th>1</th>\n",
       "      <td>My Little Pony: A New Generation</td>\n",
       "      <td>Children &amp; Family Movies</td>\n",
       "      <td>Equestria's divided. But a bright-eyed hero be...</td>\n",
       "    </tr>\n",
       "    <tr>\n",
       "      <th>2</th>\n",
       "      <td>Sankofa</td>\n",
       "      <td>Dramas, Independent Movies, International Movies</td>\n",
       "      <td>On a photo shoot in Ghana, an American model s...</td>\n",
       "    </tr>\n",
       "    <tr>\n",
       "      <th>3</th>\n",
       "      <td>The Starling</td>\n",
       "      <td>Comedies, Dramas</td>\n",
       "      <td>A woman adjusting to life after a loss contend...</td>\n",
       "    </tr>\n",
       "    <tr>\n",
       "      <th>4</th>\n",
       "      <td>Je Suis Karl</td>\n",
       "      <td>Dramas, International Movies</td>\n",
       "      <td>After most of her family is murdered in a terr...</td>\n",
       "    </tr>\n",
       "  </tbody>\n",
       "</table>\n",
       "</div>"
      ],
      "text/plain": [
       "                              title  \\\n",
       "0              Dick Johnson Is Dead   \n",
       "1  My Little Pony: A New Generation   \n",
       "2                           Sankofa   \n",
       "3                      The Starling   \n",
       "4                      Je Suis Karl   \n",
       "\n",
       "                                          listed_in  \\\n",
       "0                                     Documentaries   \n",
       "1                          Children & Family Movies   \n",
       "2  Dramas, Independent Movies, International Movies   \n",
       "3                                  Comedies, Dramas   \n",
       "4                      Dramas, International Movies   \n",
       "\n",
       "                                         description  \n",
       "0  As her father nears the end of his life, filmm...  \n",
       "1  Equestria's divided. But a bright-eyed hero be...  \n",
       "2  On a photo shoot in Ghana, an American model s...  \n",
       "3  A woman adjusting to life after a loss contend...  \n",
       "4  After most of her family is murdered in a terr...  "
      ]
     },
     "execution_count": 3,
     "metadata": {},
     "output_type": "execute_result"
    }
   ],
   "source": [
    "orig_netflix = orig_netflix[orig_netflix[\"type\"] == \"Movie\"].reset_index()\n",
    "netflix = orig_netflix[[\"title\", \"listed_in\", \"description\"]].copy()\n",
    "netflix.head()"
   ]
  },
  {
   "cell_type": "code",
   "execution_count": 4,
   "id": "miniature-martial",
   "metadata": {
    "papermill": {
     "duration": 0.030192,
     "end_time": "2021-04-20T02:29:12.196962",
     "exception": false,
     "start_time": "2021-04-20T02:29:12.166770",
     "status": "completed"
    },
    "tags": []
   },
   "outputs": [
    {
     "data": {
      "text/plain": [
       "title          0\n",
       "listed_in      0\n",
       "description    0\n",
       "dtype: int64"
      ]
     },
     "execution_count": 4,
     "metadata": {},
     "output_type": "execute_result"
    }
   ],
   "source": [
    "netflix.isnull().sum()"
   ]
  },
  {
   "cell_type": "code",
   "execution_count": 5,
   "id": "standing-phenomenon",
   "metadata": {
    "papermill": {
     "duration": 0.02611,
     "end_time": "2021-04-20T02:29:12.240437",
     "exception": false,
     "start_time": "2021-04-20T02:29:12.214327",
     "status": "completed"
    },
    "tags": []
   },
   "outputs": [],
   "source": [
    "def preprocessing(desc):\n",
    "    desc = desc.lower()\n",
    "    desc = re.sub('[-=+,#/\\?:^$.@*\\\"※~&%ㆍ!』\\\\‘|\\(\\)\\[\\]\\<\\>`\\'…》]', ' ', desc)\n",
    "    desc = \" \".join(desc.split())\n",
    "    \n",
    "    return desc"
   ]
  },
  {
   "cell_type": "code",
   "execution_count": 6,
   "id": "professional-dress",
   "metadata": {
    "papermill": {
     "duration": 0.087961,
     "end_time": "2021-04-20T02:29:12.345959",
     "exception": false,
     "start_time": "2021-04-20T02:29:12.257998",
     "status": "completed"
    },
    "tags": []
   },
   "outputs": [
    {
     "name": "stdout",
     "output_type": "stream",
     "text": [
      "(6131, 4)\n"
     ]
    },
    {
     "data": {
      "text/html": [
       "<div>\n",
       "<style scoped>\n",
       "    .dataframe tbody tr th:only-of-type {\n",
       "        vertical-align: middle;\n",
       "    }\n",
       "\n",
       "    .dataframe tbody tr th {\n",
       "        vertical-align: top;\n",
       "    }\n",
       "\n",
       "    .dataframe thead th {\n",
       "        text-align: right;\n",
       "    }\n",
       "</style>\n",
       "<table border=\"1\" class=\"dataframe\">\n",
       "  <thead>\n",
       "    <tr style=\"text-align: right;\">\n",
       "      <th></th>\n",
       "      <th>title</th>\n",
       "      <th>listed_in</th>\n",
       "      <th>description</th>\n",
       "      <th>new_description</th>\n",
       "    </tr>\n",
       "  </thead>\n",
       "  <tbody>\n",
       "    <tr>\n",
       "      <th>0</th>\n",
       "      <td>Dick Johnson Is Dead</td>\n",
       "      <td>Documentaries</td>\n",
       "      <td>As her father nears the end of his life, filmm...</td>\n",
       "      <td>as her father nears the end of his life filmma...</td>\n",
       "    </tr>\n",
       "    <tr>\n",
       "      <th>1</th>\n",
       "      <td>My Little Pony: A New Generation</td>\n",
       "      <td>Children &amp; Family Movies</td>\n",
       "      <td>Equestria's divided. But a bright-eyed hero be...</td>\n",
       "      <td>equestria s divided but a bright eyed hero bel...</td>\n",
       "    </tr>\n",
       "    <tr>\n",
       "      <th>2</th>\n",
       "      <td>Sankofa</td>\n",
       "      <td>Dramas, Independent Movies, International Movies</td>\n",
       "      <td>On a photo shoot in Ghana, an American model s...</td>\n",
       "      <td>on a photo shoot in ghana an american model sl...</td>\n",
       "    </tr>\n",
       "    <tr>\n",
       "      <th>3</th>\n",
       "      <td>The Starling</td>\n",
       "      <td>Comedies, Dramas</td>\n",
       "      <td>A woman adjusting to life after a loss contend...</td>\n",
       "      <td>a woman adjusting to life after a loss contend...</td>\n",
       "    </tr>\n",
       "    <tr>\n",
       "      <th>4</th>\n",
       "      <td>Je Suis Karl</td>\n",
       "      <td>Dramas, International Movies</td>\n",
       "      <td>After most of her family is murdered in a terr...</td>\n",
       "      <td>after most of her family is murdered in a terr...</td>\n",
       "    </tr>\n",
       "  </tbody>\n",
       "</table>\n",
       "</div>"
      ],
      "text/plain": [
       "                              title  \\\n",
       "0              Dick Johnson Is Dead   \n",
       "1  My Little Pony: A New Generation   \n",
       "2                           Sankofa   \n",
       "3                      The Starling   \n",
       "4                      Je Suis Karl   \n",
       "\n",
       "                                          listed_in  \\\n",
       "0                                     Documentaries   \n",
       "1                          Children & Family Movies   \n",
       "2  Dramas, Independent Movies, International Movies   \n",
       "3                                  Comedies, Dramas   \n",
       "4                      Dramas, International Movies   \n",
       "\n",
       "                                         description  \\\n",
       "0  As her father nears the end of his life, filmm...   \n",
       "1  Equestria's divided. But a bright-eyed hero be...   \n",
       "2  On a photo shoot in Ghana, an American model s...   \n",
       "3  A woman adjusting to life after a loss contend...   \n",
       "4  After most of her family is murdered in a terr...   \n",
       "\n",
       "                                     new_description  \n",
       "0  as her father nears the end of his life filmma...  \n",
       "1  equestria s divided but a bright eyed hero bel...  \n",
       "2  on a photo shoot in ghana an american model sl...  \n",
       "3  a woman adjusting to life after a loss contend...  \n",
       "4  after most of her family is murdered in a terr...  "
      ]
     },
     "execution_count": 6,
     "metadata": {},
     "output_type": "execute_result"
    }
   ],
   "source": [
    "netflix[\"new_description\"] = netflix[\"description\"].apply(lambda x: preprocessing(x))\n",
    "print(netflix.shape)\n",
    "netflix.head()"
   ]
  },
  {
   "cell_type": "code",
   "execution_count": 7,
   "id": "separated-dover",
   "metadata": {
    "papermill": {
     "duration": 0.028292,
     "end_time": "2021-04-20T02:29:12.392830",
     "exception": false,
     "start_time": "2021-04-20T02:29:12.364538",
     "status": "completed"
    },
    "tags": []
   },
   "outputs": [
    {
     "name": "stdout",
     "output_type": "stream",
     "text": [
      "As her father nears the end of his life, filmmaker Kirsten Johnson stages his death in inventive and comical ways to help them both face the inevitable.\n",
      "as her father nears the end of his life filmmaker kirsten johnson stages his death in inventive and comical ways to help them both face the inevitable\n"
     ]
    }
   ],
   "source": [
    "print(netflix[\"description\"].iloc[0])\n",
    "print(netflix[\"new_description\"].iloc[0])"
   ]
  },
  {
   "cell_type": "markdown",
   "id": "collect-ivory",
   "metadata": {
    "papermill": {
     "duration": 0.018575,
     "end_time": "2021-04-20T02:29:12.432273",
     "exception": false,
     "start_time": "2021-04-20T02:29:12.413698",
     "status": "completed"
    },
    "tags": []
   },
   "source": [
    "### 2. Embedding\n",
    "1. Split each sentence to make the corpus<br/>\n",
    "2. Embedding the corpus with Fasttext method<br/>\n",
    "3. Transform sentences to feature vector"
   ]
  },
  {
   "cell_type": "code",
   "execution_count": 8,
   "id": "forbidden-bibliography",
   "metadata": {
    "papermill": {
     "duration": 1.13251,
     "end_time": "2021-04-20T02:29:13.583822",
     "exception": false,
     "start_time": "2021-04-20T02:29:12.451312",
     "status": "completed"
    },
    "tags": []
   },
   "outputs": [
    {
     "name": "stdout",
     "output_type": "stream",
     "text": [
      "as her father nears the end of his life filmmaker kirsten johnson stages his death in inventive and comical ways to help them both face the inevitable\n",
      "['as', 'her', 'father', 'nears', 'the', 'end', 'of', 'his', 'life', 'filmmaker', 'kirsten', 'johnson', 'stages', 'his', 'death', 'in', 'inventive', 'and', 'comical', 'ways', 'to', 'help', 'them', 'both', 'face', 'the', 'inevitable']\n"
     ]
    }
   ],
   "source": [
    "from gensim.models.fasttext import FastText as FT_gensim\n",
    "\n",
    "corpus = netflix[\"new_description\"].tolist()\n",
    "sentences = [re.split(' ', str(sentence)) for sentence in corpus]\n",
    "print(corpus[0])\n",
    "print(sentences[0])"
   ]
  },
  {
   "cell_type": "code",
   "execution_count": 9,
   "id": "younger-publication",
   "metadata": {
    "papermill": {
     "duration": 61.347275,
     "end_time": "2021-04-20T02:30:14.951662",
     "exception": false,
     "start_time": "2021-04-20T02:29:13.604387",
     "status": "completed"
    },
    "tags": []
   },
   "outputs": [
    {
     "name": "stdout",
     "output_type": "stream",
     "text": [
      "corpus_count:  6131\n",
      "corpus_total_words:  151843\n",
      "FastText<vocab=8454, vector_size=30, alpha=0.025>\n"
     ]
    }
   ],
   "source": [
    "embedding_size = 30\n",
    "\n",
    "FT_model = FT_gensim(vector_size=embedding_size, min_count=2, min_n=2, max_n=5, sg=1, negative=10,\n",
    "                         sample=0.001, window=5, alpha=0.025, min_alpha=0.0001, epochs=50)\n",
    "\n",
    "FT_model.build_vocab(sentences)\n",
    "\n",
    "print('corpus_count: ', FT_model.corpus_count)\n",
    "print('corpus_total_words: ', FT_model.corpus_total_words)\n",
    "\n",
    "FT_model.train(sentences,\n",
    "    epochs=FT_model.epochs,\n",
    "    total_examples=FT_model.corpus_count, total_words=FT_model.corpus_total_words)\n",
    "\n",
    "print(FT_model)"
   ]
  },
  {
   "cell_type": "code",
   "execution_count": 11,
   "id": "necessary-lodging",
   "metadata": {
    "papermill": {
     "duration": 6.416071,
     "end_time": "2021-04-20T02:30:21.389473",
     "exception": false,
     "start_time": "2021-04-20T02:30:14.973402",
     "status": "completed"
    },
    "tags": []
   },
   "outputs": [],
   "source": [
    "FT_vector = []\n",
    "\n",
    "for item in corpus:\n",
    "    FT_vector.append(FT_model.wv[str(item)])\n",
    "FT_vector = np.asarray(FT_vector)"
   ]
  },
  {
   "cell_type": "markdown",
   "id": "manufactured-globe",
   "metadata": {
    "papermill": {
     "duration": 0.019682,
     "end_time": "2021-04-20T02:30:21.429327",
     "exception": false,
     "start_time": "2021-04-20T02:30:21.409645",
     "status": "completed"
    },
    "tags": []
   },
   "source": [
    "### 3. K-means Clustering\n",
    "1. Train k-means clustering with feature vector<br/>\n",
    "2. Add cluster_id on dataframe "
   ]
  },
  {
   "cell_type": "code",
   "execution_count": 18,
   "id": "above-joshua",
   "metadata": {
    "papermill": {
     "duration": 3.11307,
     "end_time": "2021-04-20T02:30:24.562494",
     "exception": false,
     "start_time": "2021-04-20T02:30:21.449424",
     "status": "completed"
    },
    "tags": []
   },
   "outputs": [
    {
     "name": "stderr",
     "output_type": "stream",
     "text": [
      "C:\\Users\\tiffa\\anaconda3\\lib\\site-packages\\sklearn\\cluster\\_kmeans.py:870: FutureWarning: The default value of `n_init` will change from 10 to 'auto' in 1.4. Set the value of `n_init` explicitly to suppress the warning\n",
      "  warnings.warn(\n"
     ]
    }
   ],
   "source": [
    "from sklearn.cluster import KMeans\n",
    "from scipy.spatial.distance import cdist\n",
    "\n",
    "kmeanModel = KMeans(n_clusters=26, random_state=42).fit(FT_vector)\n",
    "cluster_id = kmeanModel.predict(FT_vector)\n",
    "netflix[\"cluster_id\"] = cluster_id"
   ]
  },
  {
   "cell_type": "code",
   "execution_count": 19,
   "id": "moving-duncan",
   "metadata": {
    "papermill": {
     "duration": 0.058121,
     "end_time": "2021-04-20T02:30:24.671162",
     "exception": false,
     "start_time": "2021-04-20T02:30:24.613041",
     "status": "completed"
    },
    "tags": []
   },
   "outputs": [
    {
     "data": {
      "text/html": [
       "<div>\n",
       "<style scoped>\n",
       "    .dataframe tbody tr th:only-of-type {\n",
       "        vertical-align: middle;\n",
       "    }\n",
       "\n",
       "    .dataframe tbody tr th {\n",
       "        vertical-align: top;\n",
       "    }\n",
       "\n",
       "    .dataframe thead th {\n",
       "        text-align: right;\n",
       "    }\n",
       "</style>\n",
       "<table border=\"1\" class=\"dataframe\">\n",
       "  <thead>\n",
       "    <tr style=\"text-align: right;\">\n",
       "      <th></th>\n",
       "      <th>title</th>\n",
       "      <th>listed_in</th>\n",
       "      <th>description</th>\n",
       "      <th>new_description</th>\n",
       "      <th>cluster_id</th>\n",
       "    </tr>\n",
       "  </thead>\n",
       "  <tbody>\n",
       "    <tr>\n",
       "      <th>0</th>\n",
       "      <td>Dick Johnson Is Dead</td>\n",
       "      <td>Documentaries</td>\n",
       "      <td>As her father nears the end of his life, filmm...</td>\n",
       "      <td>as her father nears the end of his life filmma...</td>\n",
       "      <td>11</td>\n",
       "    </tr>\n",
       "    <tr>\n",
       "      <th>1</th>\n",
       "      <td>My Little Pony: A New Generation</td>\n",
       "      <td>Children &amp; Family Movies</td>\n",
       "      <td>Equestria's divided. But a bright-eyed hero be...</td>\n",
       "      <td>equestria s divided but a bright eyed hero bel...</td>\n",
       "      <td>7</td>\n",
       "    </tr>\n",
       "    <tr>\n",
       "      <th>2</th>\n",
       "      <td>Sankofa</td>\n",
       "      <td>Dramas, Independent Movies, International Movies</td>\n",
       "      <td>On a photo shoot in Ghana, an American model s...</td>\n",
       "      <td>on a photo shoot in ghana an american model sl...</td>\n",
       "      <td>5</td>\n",
       "    </tr>\n",
       "    <tr>\n",
       "      <th>3</th>\n",
       "      <td>The Starling</td>\n",
       "      <td>Comedies, Dramas</td>\n",
       "      <td>A woman adjusting to life after a loss contend...</td>\n",
       "      <td>a woman adjusting to life after a loss contend...</td>\n",
       "      <td>11</td>\n",
       "    </tr>\n",
       "    <tr>\n",
       "      <th>4</th>\n",
       "      <td>Je Suis Karl</td>\n",
       "      <td>Dramas, International Movies</td>\n",
       "      <td>After most of her family is murdered in a terr...</td>\n",
       "      <td>after most of her family is murdered in a terr...</td>\n",
       "      <td>22</td>\n",
       "    </tr>\n",
       "  </tbody>\n",
       "</table>\n",
       "</div>"
      ],
      "text/plain": [
       "                              title  \\\n",
       "0              Dick Johnson Is Dead   \n",
       "1  My Little Pony: A New Generation   \n",
       "2                           Sankofa   \n",
       "3                      The Starling   \n",
       "4                      Je Suis Karl   \n",
       "\n",
       "                                          listed_in  \\\n",
       "0                                     Documentaries   \n",
       "1                          Children & Family Movies   \n",
       "2  Dramas, Independent Movies, International Movies   \n",
       "3                                  Comedies, Dramas   \n",
       "4                      Dramas, International Movies   \n",
       "\n",
       "                                         description  \\\n",
       "0  As her father nears the end of his life, filmm...   \n",
       "1  Equestria's divided. But a bright-eyed hero be...   \n",
       "2  On a photo shoot in Ghana, an American model s...   \n",
       "3  A woman adjusting to life after a loss contend...   \n",
       "4  After most of her family is murdered in a terr...   \n",
       "\n",
       "                                     new_description  cluster_id  \n",
       "0  as her father nears the end of his life filmma...          11  \n",
       "1  equestria s divided but a bright eyed hero bel...           7  \n",
       "2  on a photo shoot in ghana an american model sl...           5  \n",
       "3  a woman adjusting to life after a loss contend...          11  \n",
       "4  after most of her family is murdered in a terr...          22  "
      ]
     },
     "execution_count": 19,
     "metadata": {},
     "output_type": "execute_result"
    }
   ],
   "source": [
    "netflix.head()"
   ]
  },
  {
   "cell_type": "markdown",
   "id": "united-tooth",
   "metadata": {
    "papermill": {
     "duration": 0.022206,
     "end_time": "2021-04-20T02:30:24.714418",
     "exception": false,
     "start_time": "2021-04-20T02:30:24.692212",
     "status": "completed"
    },
    "tags": []
   },
   "source": [
    "### 4. Recommendation system\n",
    "Searching similarity of new description between source movie and target movie in same cluster<br/>\n",
    "Sorting dataframe with similarity and return title of most similar movie with number of top_k"
   ]
  },
  {
   "cell_type": "code",
   "execution_count": 20,
   "id": "stretch-runner",
   "metadata": {
    "papermill": {
     "duration": 0.031064,
     "end_time": "2021-04-20T02:30:24.766912",
     "exception": false,
     "start_time": "2021-04-20T02:30:24.735848",
     "status": "completed"
    },
    "tags": []
   },
   "outputs": [],
   "source": [
    "def recommendation_system(title_name):\n",
    "    top_k = 5\n",
    "    title_row = netflix[netflix[\"title\"] == title_name].copy()\n",
    "    search_df = netflix[netflix[\"cluster_id\"].isin(title_row[\"cluster_id\"])].copy()\n",
    "    search_df = search_df.drop(search_df[search_df[\"title\"] == title_name].index)\n",
    "    \n",
    "    search_df[\"Similarity\"] = search_df.apply(lambda x: FT_model.wv.similarity(title_row[\"new_description\"], x[\"new_description\"]), axis=1)\n",
    "    search_df.sort_values(by=[\"Similarity\"], ascending=False, inplace=True)\n",
    "    \n",
    "    return search_df[[\"title\", \"Similarity\"]].head(top_k)"
   ]
  },
  {
   "cell_type": "code",
   "execution_count": 21,
   "id": "radical-capture",
   "metadata": {
    "papermill": {
     "duration": 0.506975,
     "end_time": "2021-04-20T02:30:25.296672",
     "exception": false,
     "start_time": "2021-04-20T02:30:24.789697",
     "status": "completed"
    },
    "tags": []
   },
   "outputs": [
    {
     "data": {
      "text/html": [
       "<div>\n",
       "<style scoped>\n",
       "    .dataframe tbody tr th:only-of-type {\n",
       "        vertical-align: middle;\n",
       "    }\n",
       "\n",
       "    .dataframe tbody tr th {\n",
       "        vertical-align: top;\n",
       "    }\n",
       "\n",
       "    .dataframe thead th {\n",
       "        text-align: right;\n",
       "    }\n",
       "</style>\n",
       "<table border=\"1\" class=\"dataframe\">\n",
       "  <thead>\n",
       "    <tr style=\"text-align: right;\">\n",
       "      <th></th>\n",
       "      <th>title</th>\n",
       "      <th>Similarity</th>\n",
       "    </tr>\n",
       "  </thead>\n",
       "  <tbody>\n",
       "    <tr>\n",
       "      <th>330</th>\n",
       "      <td>Major Grom: Plague Doctor</td>\n",
       "      <td>[0.97557825]</td>\n",
       "    </tr>\n",
       "    <tr>\n",
       "      <th>433</th>\n",
       "      <td>Jagame Thandhiram</td>\n",
       "      <td>[0.97205675]</td>\n",
       "    </tr>\n",
       "    <tr>\n",
       "      <th>4800</th>\n",
       "      <td>John Day</td>\n",
       "      <td>[0.9719341]</td>\n",
       "    </tr>\n",
       "    <tr>\n",
       "      <th>3393</th>\n",
       "      <td>Aakhri Adaalat</td>\n",
       "      <td>[0.9707152]</td>\n",
       "    </tr>\n",
       "    <tr>\n",
       "      <th>90</th>\n",
       "      <td>In Too Deep</td>\n",
       "      <td>[0.9705769]</td>\n",
       "    </tr>\n",
       "  </tbody>\n",
       "</table>\n",
       "</div>"
      ],
      "text/plain": [
       "                          title    Similarity\n",
       "330   Major Grom: Plague Doctor  [0.97557825]\n",
       "433           Jagame Thandhiram  [0.97205675]\n",
       "4800                   John Day   [0.9719341]\n",
       "3393             Aakhri Adaalat   [0.9707152]\n",
       "90                  In Too Deep   [0.9705769]"
      ]
     },
     "execution_count": 21,
     "metadata": {},
     "output_type": "execute_result"
    }
   ],
   "source": [
    "recommendation_system(\"Killing Them Softly\")"
   ]
  },
  {
   "cell_type": "code",
   "execution_count": 24,
   "id": "integral-concept",
   "metadata": {
    "papermill": {
     "duration": 0.21087,
     "end_time": "2021-04-20T02:30:25.529433",
     "exception": false,
     "start_time": "2021-04-20T02:30:25.318563",
     "status": "completed"
    },
    "tags": []
   },
   "outputs": [
    {
     "data": {
      "text/html": [
       "<div>\n",
       "<style scoped>\n",
       "    .dataframe tbody tr th:only-of-type {\n",
       "        vertical-align: middle;\n",
       "    }\n",
       "\n",
       "    .dataframe tbody tr th {\n",
       "        vertical-align: top;\n",
       "    }\n",
       "\n",
       "    .dataframe thead th {\n",
       "        text-align: right;\n",
       "    }\n",
       "</style>\n",
       "<table border=\"1\" class=\"dataframe\">\n",
       "  <thead>\n",
       "    <tr style=\"text-align: right;\">\n",
       "      <th></th>\n",
       "      <th>title</th>\n",
       "      <th>Similarity</th>\n",
       "    </tr>\n",
       "  </thead>\n",
       "  <tbody>\n",
       "    <tr>\n",
       "      <th>6053</th>\n",
       "      <td>We're No Animals</td>\n",
       "      <td>[0.960557]</td>\n",
       "    </tr>\n",
       "    <tr>\n",
       "      <th>3686</th>\n",
       "      <td>Dieter Nuhr: Nuhr in Berlin</td>\n",
       "      <td>[0.9560946]</td>\n",
       "    </tr>\n",
       "    <tr>\n",
       "      <th>974</th>\n",
       "      <td>Death to 2020</td>\n",
       "      <td>[0.9553115]</td>\n",
       "    </tr>\n",
       "    <tr>\n",
       "      <th>2472</th>\n",
       "      <td>Bollywood Calling</td>\n",
       "      <td>[0.95481765]</td>\n",
       "    </tr>\n",
       "    <tr>\n",
       "      <th>3023</th>\n",
       "      <td>I Hate Luv Storys</td>\n",
       "      <td>[0.9543296]</td>\n",
       "    </tr>\n",
       "  </tbody>\n",
       "</table>\n",
       "</div>"
      ],
      "text/plain": [
       "                            title    Similarity\n",
       "6053             We're No Animals    [0.960557]\n",
       "3686  Dieter Nuhr: Nuhr in Berlin   [0.9560946]\n",
       "974                 Death to 2020   [0.9553115]\n",
       "2472            Bollywood Calling  [0.95481765]\n",
       "3023            I Hate Luv Storys   [0.9543296]"
      ]
     },
     "execution_count": 24,
     "metadata": {},
     "output_type": "execute_result"
    }
   ],
   "source": [
    "recommendation_system(\"The Interview\")"
   ]
  },
  {
   "cell_type": "code",
   "execution_count": 26,
   "id": "2c4a302b-e5e2-4da8-b1bc-4990c15601f7",
   "metadata": {},
   "outputs": [
    {
     "data": {
      "text/plain": [
       "['kmeans_model.joblib']"
      ]
     },
     "execution_count": 26,
     "metadata": {},
     "output_type": "execute_result"
    }
   ],
   "source": [
    "from joblib import dump, load\n",
    "\n",
    "# Save the model\n",
    "dump(kmeanModel, 'kmeans_model.joblib')"
   ]
  },
  {
   "cell_type": "code",
   "execution_count": 27,
   "id": "9b192460-ada1-401d-8496-7d88eb8a9b9d",
   "metadata": {},
   "outputs": [
    {
     "data": {
      "text/html": [
       "<div>\n",
       "<style scoped>\n",
       "    .dataframe tbody tr th:only-of-type {\n",
       "        vertical-align: middle;\n",
       "    }\n",
       "\n",
       "    .dataframe tbody tr th {\n",
       "        vertical-align: top;\n",
       "    }\n",
       "\n",
       "    .dataframe thead th {\n",
       "        text-align: right;\n",
       "    }\n",
       "</style>\n",
       "<table border=\"1\" class=\"dataframe\">\n",
       "  <thead>\n",
       "    <tr style=\"text-align: right;\">\n",
       "      <th></th>\n",
       "      <th>title</th>\n",
       "      <th>listed_in</th>\n",
       "      <th>description</th>\n",
       "      <th>new_description</th>\n",
       "      <th>cluster_id</th>\n",
       "    </tr>\n",
       "  </thead>\n",
       "  <tbody>\n",
       "    <tr>\n",
       "      <th>0</th>\n",
       "      <td>Dick Johnson Is Dead</td>\n",
       "      <td>Documentaries</td>\n",
       "      <td>As her father nears the end of his life, filmm...</td>\n",
       "      <td>as her father nears the end of his life filmma...</td>\n",
       "      <td>11</td>\n",
       "    </tr>\n",
       "    <tr>\n",
       "      <th>1</th>\n",
       "      <td>My Little Pony: A New Generation</td>\n",
       "      <td>Children &amp; Family Movies</td>\n",
       "      <td>Equestria's divided. But a bright-eyed hero be...</td>\n",
       "      <td>equestria s divided but a bright eyed hero bel...</td>\n",
       "      <td>7</td>\n",
       "    </tr>\n",
       "    <tr>\n",
       "      <th>2</th>\n",
       "      <td>Sankofa</td>\n",
       "      <td>Dramas, Independent Movies, International Movies</td>\n",
       "      <td>On a photo shoot in Ghana, an American model s...</td>\n",
       "      <td>on a photo shoot in ghana an american model sl...</td>\n",
       "      <td>5</td>\n",
       "    </tr>\n",
       "    <tr>\n",
       "      <th>3</th>\n",
       "      <td>The Starling</td>\n",
       "      <td>Comedies, Dramas</td>\n",
       "      <td>A woman adjusting to life after a loss contend...</td>\n",
       "      <td>a woman adjusting to life after a loss contend...</td>\n",
       "      <td>11</td>\n",
       "    </tr>\n",
       "    <tr>\n",
       "      <th>4</th>\n",
       "      <td>Je Suis Karl</td>\n",
       "      <td>Dramas, International Movies</td>\n",
       "      <td>After most of her family is murdered in a terr...</td>\n",
       "      <td>after most of her family is murdered in a terr...</td>\n",
       "      <td>22</td>\n",
       "    </tr>\n",
       "  </tbody>\n",
       "</table>\n",
       "</div>"
      ],
      "text/plain": [
       "                              title  \\\n",
       "0              Dick Johnson Is Dead   \n",
       "1  My Little Pony: A New Generation   \n",
       "2                           Sankofa   \n",
       "3                      The Starling   \n",
       "4                      Je Suis Karl   \n",
       "\n",
       "                                          listed_in  \\\n",
       "0                                     Documentaries   \n",
       "1                          Children & Family Movies   \n",
       "2  Dramas, Independent Movies, International Movies   \n",
       "3                                  Comedies, Dramas   \n",
       "4                      Dramas, International Movies   \n",
       "\n",
       "                                         description  \\\n",
       "0  As her father nears the end of his life, filmm...   \n",
       "1  Equestria's divided. But a bright-eyed hero be...   \n",
       "2  On a photo shoot in Ghana, an American model s...   \n",
       "3  A woman adjusting to life after a loss contend...   \n",
       "4  After most of her family is murdered in a terr...   \n",
       "\n",
       "                                     new_description  cluster_id  \n",
       "0  as her father nears the end of his life filmma...          11  \n",
       "1  equestria s divided but a bright eyed hero bel...           7  \n",
       "2  on a photo shoot in ghana an american model sl...           5  \n",
       "3  a woman adjusting to life after a loss contend...          11  \n",
       "4  after most of her family is murdered in a terr...          22  "
      ]
     },
     "execution_count": 27,
     "metadata": {},
     "output_type": "execute_result"
    }
   ],
   "source": [
    "netflix.head()"
   ]
  },
  {
   "cell_type": "code",
   "execution_count": 28,
   "id": "38e23342-6722-493d-865c-0cae9eaf8c2f",
   "metadata": {},
   "outputs": [],
   "source": [
    "netflix.to_csv('processed_netflix_titles.csv', index=False)\n"
   ]
  },
  {
   "cell_type": "code",
   "execution_count": null,
   "id": "5d6530ba-45d6-4fcc-9584-7d89531aa60b",
   "metadata": {},
   "outputs": [],
   "source": []
  }
 ],
 "metadata": {
  "kernelspec": {
   "display_name": "Python 3 (ipykernel)",
   "language": "python",
   "name": "python3"
  },
  "language_info": {
   "codemirror_mode": {
    "name": "ipython",
    "version": 3
   },
   "file_extension": ".py",
   "mimetype": "text/x-python",
   "name": "python",
   "nbconvert_exporter": "python",
   "pygments_lexer": "ipython3",
   "version": "3.10.9"
  },
  "papermill": {
   "default_parameters": {},
   "duration": 80.551327,
   "end_time": "2021-04-20T02:30:26.309124",
   "environment_variables": {},
   "exception": null,
   "input_path": "__notebook__.ipynb",
   "output_path": "__notebook__.ipynb",
   "parameters": {},
   "start_time": "2021-04-20T02:29:05.757797",
   "version": "2.3.2"
  }
 },
 "nbformat": 4,
 "nbformat_minor": 5
}
